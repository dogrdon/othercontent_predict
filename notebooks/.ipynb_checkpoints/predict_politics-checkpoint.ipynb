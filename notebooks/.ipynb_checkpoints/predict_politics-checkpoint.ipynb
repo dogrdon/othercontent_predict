{
 "cells": [
  {
   "cell_type": "markdown",
   "metadata": {},
   "source": [
    "# Predicting the politics of native ad content"
   ]
  },
  {
   "cell_type": "markdown",
   "metadata": {},
   "source": [
    "We left off a while ago with a dataset of native ad content scraped from across the web on various media website see [part I here](http://subtxt.in/web/2017/06/17/suggested_content) and [part II here](http://subtxt.in/web/2017/08/15/suggested_content_2). \n",
    "\n",
    "Picking up from this work, we want to see what a trained nueral network does with political classifications of these images. Luckily we made a naive pass at classifying the websites from which these images came, so we already have some labels to apply to the training data. Though now we'll see if any of it is meaningful.\n",
    "\n",
    "To recap, based on the website the native content was hosted at, we assinged a political pre-disposition to that site (**left**, **right**, **center**, or **tabloid** -- for those websites that seemed to lean towards outrageous claims over political bias).\n",
    "\n",
    "First, lets just do a once over of our data."
   ]
  },
  {
   "cell_type": "markdown",
   "metadata": {},
   "source": [
    "## Load the native ad content metadata"
   ]
  },
  {
   "cell_type": "code",
   "execution_count": 2,
   "metadata": {},
   "outputs": [],
   "source": [
    "import pandas as pd"
   ]
  },
  {
   "cell_type": "code",
   "execution_count": 3,
   "metadata": {},
   "outputs": [],
   "source": [
    "native_ad_df = pd.read_csv('../data/out/2017-08-30-01_47_native_ad_data_deduped.csv')"
   ]
  },
  {
   "cell_type": "code",
   "execution_count": 4,
   "metadata": {},
   "outputs": [
    {
     "data": {
      "text/html": [
       "<div>\n",
       "<style scoped>\n",
       "    .dataframe tbody tr th:only-of-type {\n",
       "        vertical-align: middle;\n",
       "    }\n",
       "\n",
       "    .dataframe tbody tr th {\n",
       "        vertical-align: top;\n",
       "    }\n",
       "\n",
       "    .dataframe thead th {\n",
       "        text-align: right;\n",
       "    }\n",
       "</style>\n",
       "<table border=\"1\" class=\"dataframe\">\n",
       "  <thead>\n",
       "    <tr style=\"text-align: right;\">\n",
       "      <th></th>\n",
       "      <th>_id</th>\n",
       "      <th>headline</th>\n",
       "      <th>link</th>\n",
       "      <th>img</th>\n",
       "      <th>provider</th>\n",
       "      <th>source</th>\n",
       "      <th>img_file</th>\n",
       "      <th>date</th>\n",
       "      <th>final_link</th>\n",
       "      <th>orig_article</th>\n",
       "      <th>img_host</th>\n",
       "      <th>link_host</th>\n",
       "      <th>source_class</th>\n",
       "    </tr>\n",
       "  </thead>\n",
       "  <tbody>\n",
       "    <tr>\n",
       "      <th>0</th>\n",
       "      <td>ObjectId(58d90ce706e10d04f7e1b3d8)</td>\n",
       "      <td>20 Cool Moments From Joe Biden’s Time In Office</td>\n",
       "      <td>http://scribol.com/a/news-and-politics/ways-jo...</td>\n",
       "      <td>https://console.brax-cdn.com/creatives/98c6400...</td>\n",
       "      <td>taboola</td>\n",
       "      <td>http://tmz.com</td>\n",
       "      <td>876aa5e83f6fb81a81908db3c02fdcc00d444000.png</td>\n",
       "      <td>2017-03-27T12:59:09.279Z</td>\n",
       "      <td>http://scribol.com/a/news-and-politics/ways-jo...</td>\n",
       "      <td>NaN</td>\n",
       "      <td>console.brax-cdn.com</td>\n",
       "      <td>scribol.com</td>\n",
       "      <td>tabloid</td>\n",
       "    </tr>\n",
       "    <tr>\n",
       "      <th>1</th>\n",
       "      <td>ObjectId(58d90ce706e10d04f7e1b3e0)</td>\n",
       "      <td>25 Pics Donald Trump Doesn't Want You To See</td>\n",
       "      <td>http://adrzr.com/54f7?utm_source=8b4&amp;utm_campa...</td>\n",
       "      <td>http://cdn.taboolasyndication.com/libtrc/stati...</td>\n",
       "      <td>taboola</td>\n",
       "      <td>http://tmz.com</td>\n",
       "      <td>d3a3f2f50c84529c08bb8314ae3aa66280f0cbc7.png</td>\n",
       "      <td>2017-03-27T12:59:13.038Z</td>\n",
       "      <td>http://detonate.com/pictures-that-trump-would-...</td>\n",
       "      <td>NaN</td>\n",
       "      <td>cdn.taboolasyndication.com</td>\n",
       "      <td>detonate.com</td>\n",
       "      <td>tabloid</td>\n",
       "    </tr>\n",
       "    <tr>\n",
       "      <th>2</th>\n",
       "      <td>ObjectId(58d90ce706e10d04f7e1b3e2)</td>\n",
       "      <td>Do This Tonight to Make Fungus Disappear by Mo...</td>\n",
       "      <td>http://japanesetoenailfunguscode.com/?aff_id=4...</td>\n",
       "      <td>https://revcontent-p0.s3.amazonaws.com/content...</td>\n",
       "      <td>revcontent</td>\n",
       "      <td>http://worldstarhiphop.com/videos/</td>\n",
       "      <td>e2bb63d58e09bae569a90f64de24c93a2d008e34.jpg</td>\n",
       "      <td>2017-03-27T12:59:15.114Z</td>\n",
       "      <td>http://japanesetoenailfunguscode.com/?aff_id=4...</td>\n",
       "      <td>NaN</td>\n",
       "      <td>revcontent-p0.s3.amazonaws.com</td>\n",
       "      <td>japanesetoenailfunguscode.com</td>\n",
       "      <td>tabloid</td>\n",
       "    </tr>\n",
       "    <tr>\n",
       "      <th>3</th>\n",
       "      <td>ObjectId(58d90ce706e10d04f7e1b3e3)</td>\n",
       "      <td>Here's What New Dental Implants Should Cost Yo...</td>\n",
       "      <td>http://gaindentalfixdeals.com/?affid=1016&amp;s1=1...</td>\n",
       "      <td>https://revcontent-p0.s3.amazonaws.com/content...</td>\n",
       "      <td>revcontent</td>\n",
       "      <td>http://worldstarhiphop.com/videos/</td>\n",
       "      <td>f70f91d2ebf37e35480fe4f689477406adf9243e.jpg</td>\n",
       "      <td>2017-03-27T12:59:15.237Z</td>\n",
       "      <td>http://gaindentalfixdeals.com/?affid=1016&amp;s1=1...</td>\n",
       "      <td>NaN</td>\n",
       "      <td>revcontent-p0.s3.amazonaws.com</td>\n",
       "      <td>gaindentalfixdeals.com</td>\n",
       "      <td>tabloid</td>\n",
       "    </tr>\n",
       "    <tr>\n",
       "      <th>4</th>\n",
       "      <td>ObjectId(58d90ce706e10d04f7e1b3e4)</td>\n",
       "      <td>Michael Jordan Has Pretty Much Given Up on His...</td>\n",
       "      <td>http://trends.revcontent.com/click.php?d=vJdwp...</td>\n",
       "      <td>https://revcontent-p0.s3.amazonaws.com/content...</td>\n",
       "      <td>revcontent</td>\n",
       "      <td>http://worldstarhiphop.com/videos/</td>\n",
       "      <td>ab914b86682795c6d6624707b22b06f88f0e551a.jpg</td>\n",
       "      <td>2017-03-27T12:59:15.614Z</td>\n",
       "      <td>http://trends.revcontent.com/click.php?d=vJdwp...</td>\n",
       "      <td>NaN</td>\n",
       "      <td>revcontent-p0.s3.amazonaws.com</td>\n",
       "      <td>trends.revcontent.com</td>\n",
       "      <td>tabloid</td>\n",
       "    </tr>\n",
       "  </tbody>\n",
       "</table>\n",
       "</div>"
      ],
      "text/plain": [
       "                                  _id  \\\n",
       "0  ObjectId(58d90ce706e10d04f7e1b3d8)   \n",
       "1  ObjectId(58d90ce706e10d04f7e1b3e0)   \n",
       "2  ObjectId(58d90ce706e10d04f7e1b3e2)   \n",
       "3  ObjectId(58d90ce706e10d04f7e1b3e3)   \n",
       "4  ObjectId(58d90ce706e10d04f7e1b3e4)   \n",
       "\n",
       "                                            headline  \\\n",
       "0    20 Cool Moments From Joe Biden’s Time In Office   \n",
       "1       25 Pics Donald Trump Doesn't Want You To See   \n",
       "2  Do This Tonight to Make Fungus Disappear by Mo...   \n",
       "3  Here's What New Dental Implants Should Cost Yo...   \n",
       "4  Michael Jordan Has Pretty Much Given Up on His...   \n",
       "\n",
       "                                                link  \\\n",
       "0  http://scribol.com/a/news-and-politics/ways-jo...   \n",
       "1  http://adrzr.com/54f7?utm_source=8b4&utm_campa...   \n",
       "2  http://japanesetoenailfunguscode.com/?aff_id=4...   \n",
       "3  http://gaindentalfixdeals.com/?affid=1016&s1=1...   \n",
       "4  http://trends.revcontent.com/click.php?d=vJdwp...   \n",
       "\n",
       "                                                 img    provider  \\\n",
       "0  https://console.brax-cdn.com/creatives/98c6400...     taboola   \n",
       "1  http://cdn.taboolasyndication.com/libtrc/stati...     taboola   \n",
       "2  https://revcontent-p0.s3.amazonaws.com/content...  revcontent   \n",
       "3  https://revcontent-p0.s3.amazonaws.com/content...  revcontent   \n",
       "4  https://revcontent-p0.s3.amazonaws.com/content...  revcontent   \n",
       "\n",
       "                               source  \\\n",
       "0                      http://tmz.com   \n",
       "1                      http://tmz.com   \n",
       "2  http://worldstarhiphop.com/videos/   \n",
       "3  http://worldstarhiphop.com/videos/   \n",
       "4  http://worldstarhiphop.com/videos/   \n",
       "\n",
       "                                       img_file                      date  \\\n",
       "0  876aa5e83f6fb81a81908db3c02fdcc00d444000.png  2017-03-27T12:59:09.279Z   \n",
       "1  d3a3f2f50c84529c08bb8314ae3aa66280f0cbc7.png  2017-03-27T12:59:13.038Z   \n",
       "2  e2bb63d58e09bae569a90f64de24c93a2d008e34.jpg  2017-03-27T12:59:15.114Z   \n",
       "3  f70f91d2ebf37e35480fe4f689477406adf9243e.jpg  2017-03-27T12:59:15.237Z   \n",
       "4  ab914b86682795c6d6624707b22b06f88f0e551a.jpg  2017-03-27T12:59:15.614Z   \n",
       "\n",
       "                                          final_link orig_article  \\\n",
       "0  http://scribol.com/a/news-and-politics/ways-jo...          NaN   \n",
       "1  http://detonate.com/pictures-that-trump-would-...          NaN   \n",
       "2  http://japanesetoenailfunguscode.com/?aff_id=4...          NaN   \n",
       "3  http://gaindentalfixdeals.com/?affid=1016&s1=1...          NaN   \n",
       "4  http://trends.revcontent.com/click.php?d=vJdwp...          NaN   \n",
       "\n",
       "                         img_host                      link_host source_class  \n",
       "0            console.brax-cdn.com                    scribol.com      tabloid  \n",
       "1      cdn.taboolasyndication.com                   detonate.com      tabloid  \n",
       "2  revcontent-p0.s3.amazonaws.com  japanesetoenailfunguscode.com      tabloid  \n",
       "3  revcontent-p0.s3.amazonaws.com         gaindentalfixdeals.com      tabloid  \n",
       "4  revcontent-p0.s3.amazonaws.com          trends.revcontent.com      tabloid  "
      ]
     },
     "execution_count": 4,
     "metadata": {},
     "output_type": "execute_result"
    }
   ],
   "source": [
    "native_ad_df.head()"
   ]
  },
  {
   "cell_type": "code",
   "execution_count": 5,
   "metadata": {},
   "outputs": [
    {
     "data": {
      "text/html": [
       "<div>\n",
       "<style scoped>\n",
       "    .dataframe tbody tr th:only-of-type {\n",
       "        vertical-align: middle;\n",
       "    }\n",
       "\n",
       "    .dataframe tbody tr th {\n",
       "        vertical-align: top;\n",
       "    }\n",
       "\n",
       "    .dataframe thead th {\n",
       "        text-align: right;\n",
       "    }\n",
       "</style>\n",
       "<table border=\"1\" class=\"dataframe\">\n",
       "  <thead>\n",
       "    <tr style=\"text-align: right;\">\n",
       "      <th></th>\n",
       "      <th>_id</th>\n",
       "      <th>headline</th>\n",
       "      <th>link</th>\n",
       "      <th>img</th>\n",
       "      <th>provider</th>\n",
       "      <th>source</th>\n",
       "      <th>img_file</th>\n",
       "      <th>date</th>\n",
       "      <th>final_link</th>\n",
       "      <th>orig_article</th>\n",
       "      <th>img_host</th>\n",
       "      <th>link_host</th>\n",
       "      <th>source_class</th>\n",
       "    </tr>\n",
       "  </thead>\n",
       "  <tbody>\n",
       "    <tr>\n",
       "      <th>count</th>\n",
       "      <td>43630</td>\n",
       "      <td>43630</td>\n",
       "      <td>43630</td>\n",
       "      <td>43630</td>\n",
       "      <td>43630</td>\n",
       "      <td>43630</td>\n",
       "      <td>43558</td>\n",
       "      <td>43630</td>\n",
       "      <td>43630</td>\n",
       "      <td>25177</td>\n",
       "      <td>43630</td>\n",
       "      <td>43630</td>\n",
       "      <td>43630</td>\n",
       "    </tr>\n",
       "    <tr>\n",
       "      <th>unique</th>\n",
       "      <td>43630</td>\n",
       "      <td>15219</td>\n",
       "      <td>35541</td>\n",
       "      <td>19311</td>\n",
       "      <td>4</td>\n",
       "      <td>24</td>\n",
       "      <td>19313</td>\n",
       "      <td>43629</td>\n",
       "      <td>30873</td>\n",
       "      <td>5195</td>\n",
       "      <td>568</td>\n",
       "      <td>2196</td>\n",
       "      <td>4</td>\n",
       "    </tr>\n",
       "    <tr>\n",
       "      <th>top</th>\n",
       "      <td>ObjectId(5900e9449e1e2a5cd5feb6bc)</td>\n",
       "      <td>Nicole Kidman's Yacht Is Far From You'd Expect</td>\n",
       "      <td>http://topictracker.online/?utm_campaign=us-tb...</td>\n",
       "      <td>http://cdn.taboolasyndication.com/libtrc/stati...</td>\n",
       "      <td>taboola</td>\n",
       "      <td>http://tmz.com</td>\n",
       "      <td>f18167ca58fee4ae691a28ecd39b0c1afe2689e4.jpg</td>\n",
       "      <td>2017-05-30T04:49:40.273Z</td>\n",
       "      <td>http://www.zergnet.com/news/694817/kim-kardash...</td>\n",
       "      <td>http://elitedaily.com/women/elite-daily-wants-...</td>\n",
       "      <td>images.outbrain.com</td>\n",
       "      <td>www.zergnet.com</td>\n",
       "      <td>tabloid</td>\n",
       "    </tr>\n",
       "    <tr>\n",
       "      <th>freq</th>\n",
       "      <td>1</td>\n",
       "      <td>376</td>\n",
       "      <td>110</td>\n",
       "      <td>368</td>\n",
       "      <td>13431</td>\n",
       "      <td>5070</td>\n",
       "      <td>368</td>\n",
       "      <td>2</td>\n",
       "      <td>126</td>\n",
       "      <td>51</td>\n",
       "      <td>12259</td>\n",
       "      <td>7257</td>\n",
       "      <td>16005</td>\n",
       "    </tr>\n",
       "  </tbody>\n",
       "</table>\n",
       "</div>"
      ],
      "text/plain": [
       "                                       _id  \\\n",
       "count                                43630   \n",
       "unique                               43630   \n",
       "top     ObjectId(5900e9449e1e2a5cd5feb6bc)   \n",
       "freq                                     1   \n",
       "\n",
       "                                              headline  \\\n",
       "count                                            43630   \n",
       "unique                                           15219   \n",
       "top     Nicole Kidman's Yacht Is Far From You'd Expect   \n",
       "freq                                               376   \n",
       "\n",
       "                                                     link  \\\n",
       "count                                               43630   \n",
       "unique                                              35541   \n",
       "top     http://topictracker.online/?utm_campaign=us-tb...   \n",
       "freq                                                  110   \n",
       "\n",
       "                                                      img provider  \\\n",
       "count                                               43630    43630   \n",
       "unique                                              19311        4   \n",
       "top     http://cdn.taboolasyndication.com/libtrc/stati...  taboola   \n",
       "freq                                                  368    13431   \n",
       "\n",
       "                source                                      img_file  \\\n",
       "count            43630                                         43558   \n",
       "unique              24                                         19313   \n",
       "top     http://tmz.com  f18167ca58fee4ae691a28ecd39b0c1afe2689e4.jpg   \n",
       "freq              5070                                           368   \n",
       "\n",
       "                            date  \\\n",
       "count                      43630   \n",
       "unique                     43629   \n",
       "top     2017-05-30T04:49:40.273Z   \n",
       "freq                           2   \n",
       "\n",
       "                                               final_link  \\\n",
       "count                                               43630   \n",
       "unique                                              30873   \n",
       "top     http://www.zergnet.com/news/694817/kim-kardash...   \n",
       "freq                                                  126   \n",
       "\n",
       "                                             orig_article  \\\n",
       "count                                               25177   \n",
       "unique                                               5195   \n",
       "top     http://elitedaily.com/women/elite-daily-wants-...   \n",
       "freq                                                   51   \n",
       "\n",
       "                   img_host        link_host source_class  \n",
       "count                 43630            43630        43630  \n",
       "unique                  568             2196            4  \n",
       "top     images.outbrain.com  www.zergnet.com      tabloid  \n",
       "freq                  12259             7257        16005  "
      ]
     },
     "execution_count": 5,
     "metadata": {},
     "output_type": "execute_result"
    }
   ],
   "source": [
    "native_ad_df.describe()"
   ]
  },
  {
   "cell_type": "markdown",
   "metadata": {},
   "source": [
    "## Slim down the metadata"
   ]
  },
  {
   "cell_type": "markdown",
   "metadata": {},
   "source": [
    "Let's work with a smaller set of columns, we don't need everything.\n",
    "\n",
    "For starting, we'll fetch the headline, provider, source, img_file, source_class."
   ]
  },
  {
   "cell_type": "code",
   "execution_count": 8,
   "metadata": {},
   "outputs": [],
   "source": [
    "slim_df = native_ad_df[['headline', 'provider', 'source', 'img_file', 'source_class']]"
   ]
  },
  {
   "cell_type": "code",
   "execution_count": 9,
   "metadata": {},
   "outputs": [
    {
     "data": {
      "text/html": [
       "<div>\n",
       "<style scoped>\n",
       "    .dataframe tbody tr th:only-of-type {\n",
       "        vertical-align: middle;\n",
       "    }\n",
       "\n",
       "    .dataframe tbody tr th {\n",
       "        vertical-align: top;\n",
       "    }\n",
       "\n",
       "    .dataframe thead th {\n",
       "        text-align: right;\n",
       "    }\n",
       "</style>\n",
       "<table border=\"1\" class=\"dataframe\">\n",
       "  <thead>\n",
       "    <tr style=\"text-align: right;\">\n",
       "      <th></th>\n",
       "      <th>headline</th>\n",
       "      <th>provider</th>\n",
       "      <th>source</th>\n",
       "      <th>img_file</th>\n",
       "      <th>source_class</th>\n",
       "    </tr>\n",
       "  </thead>\n",
       "  <tbody>\n",
       "    <tr>\n",
       "      <th>0</th>\n",
       "      <td>20 Cool Moments From Joe Biden’s Time In Office</td>\n",
       "      <td>taboola</td>\n",
       "      <td>http://tmz.com</td>\n",
       "      <td>876aa5e83f6fb81a81908db3c02fdcc00d444000.png</td>\n",
       "      <td>tabloid</td>\n",
       "    </tr>\n",
       "    <tr>\n",
       "      <th>1</th>\n",
       "      <td>25 Pics Donald Trump Doesn't Want You To See</td>\n",
       "      <td>taboola</td>\n",
       "      <td>http://tmz.com</td>\n",
       "      <td>d3a3f2f50c84529c08bb8314ae3aa66280f0cbc7.png</td>\n",
       "      <td>tabloid</td>\n",
       "    </tr>\n",
       "    <tr>\n",
       "      <th>2</th>\n",
       "      <td>Do This Tonight to Make Fungus Disappear by Mo...</td>\n",
       "      <td>revcontent</td>\n",
       "      <td>http://worldstarhiphop.com/videos/</td>\n",
       "      <td>e2bb63d58e09bae569a90f64de24c93a2d008e34.jpg</td>\n",
       "      <td>tabloid</td>\n",
       "    </tr>\n",
       "    <tr>\n",
       "      <th>3</th>\n",
       "      <td>Here's What New Dental Implants Should Cost Yo...</td>\n",
       "      <td>revcontent</td>\n",
       "      <td>http://worldstarhiphop.com/videos/</td>\n",
       "      <td>f70f91d2ebf37e35480fe4f689477406adf9243e.jpg</td>\n",
       "      <td>tabloid</td>\n",
       "    </tr>\n",
       "    <tr>\n",
       "      <th>4</th>\n",
       "      <td>Michael Jordan Has Pretty Much Given Up on His...</td>\n",
       "      <td>revcontent</td>\n",
       "      <td>http://worldstarhiphop.com/videos/</td>\n",
       "      <td>ab914b86682795c6d6624707b22b06f88f0e551a.jpg</td>\n",
       "      <td>tabloid</td>\n",
       "    </tr>\n",
       "  </tbody>\n",
       "</table>\n",
       "</div>"
      ],
      "text/plain": [
       "                                            headline    provider  \\\n",
       "0    20 Cool Moments From Joe Biden’s Time In Office     taboola   \n",
       "1       25 Pics Donald Trump Doesn't Want You To See     taboola   \n",
       "2  Do This Tonight to Make Fungus Disappear by Mo...  revcontent   \n",
       "3  Here's What New Dental Implants Should Cost Yo...  revcontent   \n",
       "4  Michael Jordan Has Pretty Much Given Up on His...  revcontent   \n",
       "\n",
       "                               source  \\\n",
       "0                      http://tmz.com   \n",
       "1                      http://tmz.com   \n",
       "2  http://worldstarhiphop.com/videos/   \n",
       "3  http://worldstarhiphop.com/videos/   \n",
       "4  http://worldstarhiphop.com/videos/   \n",
       "\n",
       "                                       img_file source_class  \n",
       "0  876aa5e83f6fb81a81908db3c02fdcc00d444000.png      tabloid  \n",
       "1  d3a3f2f50c84529c08bb8314ae3aa66280f0cbc7.png      tabloid  \n",
       "2  e2bb63d58e09bae569a90f64de24c93a2d008e34.jpg      tabloid  \n",
       "3  f70f91d2ebf37e35480fe4f689477406adf9243e.jpg      tabloid  \n",
       "4  ab914b86682795c6d6624707b22b06f88f0e551a.jpg      tabloid  "
      ]
     },
     "execution_count": 9,
     "metadata": {},
     "output_type": "execute_result"
    }
   ],
   "source": [
    "slim_df.head()"
   ]
  },
  {
   "cell_type": "code",
   "execution_count": 10,
   "metadata": {},
   "outputs": [
    {
     "data": {
      "text/plain": [
       "tabloid    16005\n",
       "left       12063\n",
       "right       9254\n",
       "center      6308\n",
       "Name: source_class, dtype: int64"
      ]
     },
     "execution_count": 10,
     "metadata": {},
     "output_type": "execute_result"
    }
   ],
   "source": [
    "slim_df.source_class.value_counts()"
   ]
  },
  {
   "cell_type": "markdown",
   "metadata": {},
   "source": [
    "## Simplify the dataset (for now)"
   ]
  },
  {
   "cell_type": "markdown",
   "metadata": {},
   "source": [
    "We want to try things out first with a simple binary classification problem. And we also don't have very many images to work with. Let's only look at left v. right web source classifications. \n",
    "\n",
    "For this we'll use the Keras dog/cat approach found here: https://blog.keras.io/building-powerful-image-classification-models-using-very-little-data.html"
   ]
  },
  {
   "cell_type": "code",
   "execution_count": 12,
   "metadata": {},
   "outputs": [],
   "source": [
    "slim_df_binary = slim_df.loc[slim_df['source_class'].isin(['left', 'right'])]"
   ]
  },
  {
   "cell_type": "code",
   "execution_count": 14,
   "metadata": {},
   "outputs": [],
   "source": [
    "assert len(slim_df_binary) == (12063 + 9254)"
   ]
  },
  {
   "cell_type": "markdown",
   "metadata": {},
   "source": [
    "And drop any image duplicates, not trying for a multilabel classifier yet in the event that the same image came from different source classifications"
   ]
  },
  {
   "cell_type": "code",
   "execution_count": 15,
   "metadata": {},
   "outputs": [
    {
     "name": "stderr",
     "output_type": "stream",
     "text": [
      "/Users/dogrdon/anaconda3/lib/python3.7/site-packages/ipykernel_launcher.py:1: SettingWithCopyWarning: \n",
      "A value is trying to be set on a copy of a slice from a DataFrame\n",
      "\n",
      "See the caveats in the documentation: http://pandas.pydata.org/pandas-docs/stable/indexing.html#indexing-view-versus-copy\n",
      "  \"\"\"Entry point for launching an IPython kernel.\n"
     ]
    }
   ],
   "source": [
    "slim_df_binary.drop_duplicates(subset =\"img_file\", keep = False, inplace = True) "
   ]
  },
  {
   "cell_type": "code",
   "execution_count": 16,
   "metadata": {},
   "outputs": [
    {
     "data": {
      "text/plain": [
       "9659"
      ]
     },
     "execution_count": 16,
     "metadata": {},
     "output_type": "execute_result"
    }
   ],
   "source": [
    "len(slim_df_binary)"
   ]
  },
  {
   "cell_type": "code",
   "execution_count": 17,
   "metadata": {},
   "outputs": [
    {
     "data": {
      "text/plain": [
       "left     6283\n",
       "right    3376\n",
       "Name: source_class, dtype: int64"
      ]
     },
     "execution_count": 17,
     "metadata": {},
     "output_type": "execute_result"
    }
   ],
   "source": [
    "slim_df_binary.source_class.value_counts()"
   ]
  },
  {
   "cell_type": "markdown",
   "metadata": {},
   "source": [
    "There is a bit of an imbalance of left to right. We may need to explore this problem later, particularly if our duplicate drop left us with an imbalanced dataset. For now we'll just select 3200 or each at random."
   ]
  },
  {
   "cell_type": "code",
   "execution_count": 34,
   "metadata": {},
   "outputs": [],
   "source": [
    "slim_df_left = slim_df_binary.loc[slim_df_binary['source_class'] == 'left'].sample(n=3200)\n",
    "slim_df_right = slim_df_binary.loc[slim_df_binary['source_class'] == 'right'].sample(n=3200)"
   ]
  },
  {
   "cell_type": "code",
   "execution_count": 35,
   "metadata": {
    "scrolled": true
   },
   "outputs": [
    {
     "name": "stdout",
     "output_type": "stream",
     "text": [
      "3200\n",
      "3200\n"
     ]
    }
   ],
   "source": [
    "print(len(slim_df_left))\n",
    "print(len(slim_df_right))"
   ]
  },
  {
   "cell_type": "markdown",
   "metadata": {},
   "source": [
    "## Train, Test, and Validation splits"
   ]
  },
  {
   "cell_type": "markdown",
   "metadata": {},
   "source": [
    "Lets train on 2200 images per each class, that leaves us with 500 to validate and 500 to test on."
   ]
  },
  {
   "cell_type": "code",
   "execution_count": 36,
   "metadata": {},
   "outputs": [
    {
     "name": "stdout",
     "output_type": "stream",
     "text": [
      "2200\n",
      "500\n",
      "500\n"
     ]
    }
   ],
   "source": [
    "slim_df_left_train = slim_df_left.sample(n=2200)\n",
    "slim_df_left = slim_df_left.drop(slim_df_left_train.index)\n",
    "slim_df_left_test = slim_df_left.sample(n=500)\n",
    "slim_df_left_validate = slim_df_left.drop(slim_df_left_test.index)\n",
    "\n",
    "print(len(slim_df_left_train))\n",
    "print(len(slim_df_left_test))\n",
    "print(len(slim_df_left_validate))"
   ]
  },
  {
   "cell_type": "code",
   "execution_count": 37,
   "metadata": {},
   "outputs": [
    {
     "name": "stdout",
     "output_type": "stream",
     "text": [
      "2200\n",
      "500\n",
      "500\n"
     ]
    }
   ],
   "source": [
    "slim_df_right_train = slim_df_right.sample(n=2200)\n",
    "slim_df_right = slim_df_right.drop(slim_df_right_train.index)\n",
    "slim_df_right_test = slim_df_right.sample(n=500)\n",
    "slim_df_right_validate = slim_df_right.drop(slim_df_right_test.index)\n",
    "\n",
    "print(len(slim_df_right_train))\n",
    "print(len(slim_df_right_test))\n",
    "print(len(slim_df_right_validate))"
   ]
  },
  {
   "cell_type": "markdown",
   "metadata": {},
   "source": [
    "## Prepare data"
   ]
  },
  {
   "cell_type": "markdown",
   "metadata": {},
   "source": [
    "Finally, let's put the images where they belong, in a folder structure broken down by class and their train, test, or validation designation"
   ]
  },
  {
   "cell_type": "code",
   "execution_count": 42,
   "metadata": {},
   "outputs": [],
   "source": [
    "import os\n",
    "import shutil\n",
    "\n",
    "imgs_dir = '../imgs/'\n",
    "train_dir = '../predict_1_imgs/train/'\n",
    "test_dir = '../predict_1_imgs/test/'\n",
    "val_dir = '../predict_1_imgs/val/'\n",
    "\n",
    "def copy_imgs(df, indir, classification):\n",
    "    curr_imgs = list(df.img_file)\n",
    "    for img in curr_imgs:\n",
    "        orig_path = os.path.join(imgs_dir, img)\n",
    "        dest_path = os.path.join(indir, classification, img)\n",
    "        shutil.copyfile(orig_path, dest_path)"
   ]
  },
  {
   "cell_type": "code",
   "execution_count": 44,
   "metadata": {},
   "outputs": [],
   "source": [
    "copy_imgs(slim_df_right_train, train_dir, 'right')\n",
    "copy_imgs(slim_df_right_test, test_dir, 'right')\n",
    "copy_imgs(slim_df_right_validate, val_dir, 'right')\n",
    "\n",
    "copy_imgs(slim_df_left_train, train_dir, 'left')\n",
    "copy_imgs(slim_df_left_test, test_dir, 'left')\n",
    "copy_imgs(slim_df_left_validate, val_dir, 'left')"
   ]
  },
  {
   "cell_type": "markdown",
   "metadata": {},
   "source": [
    "Then we will need to transform our image files into tensors for loading to a nueral network\n",
    "\n",
    "This is not a novel process. We'll "
   ]
  },
  {
   "cell_type": "code",
   "execution_count": 48,
   "metadata": {},
   "outputs": [
    {
     "name": "stdout",
     "output_type": "stream",
     "text": [
      "Found 4386 images belonging to 2 classes.\n",
      "Found 1000 images belonging to 2 classes.\n"
     ]
    }
   ],
   "source": [
    "from keras.preprocessing.image import ImageDataGenerator\n",
    "\n",
    "# first ensure we're converting pixels 0 to 255 to a number between 0 and 1\n",
    "train_data = ImageDataGenerator(rescale=1./255)\n",
    "val_data = ImageDataGenerator(rescale=1./255)\n",
    "\n",
    "# then create our generators for train and validation data\n",
    "train_generator = train_data.flow_from_directory(\n",
    "        train_dir,\n",
    "        target_size=(150, 150), # resize all images to 150x150\n",
    "        batch_size=20,\n",
    "        class_mode='binary') # using binary crossentropy to validate between two classes\n",
    "\n",
    "val_generator = val_data.flow_from_directory(\n",
    "        val_dir,\n",
    "        target_size=(150, 150),\n",
    "        batch_size=20,\n",
    "        class_mode='binary')"
   ]
  },
  {
   "cell_type": "markdown",
   "metadata": {},
   "source": [
    "**Hmmmm, we should have 4400 images in two classes for our training data, we'll go back to check that out later**"
   ]
  },
  {
   "cell_type": "markdown",
   "metadata": {},
   "source": [
    "## Define the network"
   ]
  },
  {
   "cell_type": "code",
   "execution_count": 51,
   "metadata": {},
   "outputs": [
    {
     "name": "stdout",
     "output_type": "stream",
     "text": [
      "WARNING:tensorflow:From /Users/dogrdon/.local/lib/python3.7/site-packages/tensorflow/python/framework/op_def_library.py:263: colocate_with (from tensorflow.python.framework.ops) is deprecated and will be removed in a future version.\n",
      "Instructions for updating:\n",
      "Colocations handled automatically by placer.\n"
     ]
    }
   ],
   "source": [
    "from keras import layers\n",
    "from keras import models\n",
    "\n",
    "model = models.Sequential()\n",
    "model.add(layers.Conv2D(32, (3, 3), activation='relu', input_shape=(150, 150, 3)))\n",
    "model.add(layers.MaxPooling2D((2, 2)))\n",
    "model.add(layers.Conv2D(64, (3, 3), activation='relu'))\n",
    "model.add(layers.MaxPooling2D((2, 2)))\n",
    "model.add(layers.Conv2D(128, (3, 3), activation='relu'))\n",
    "model.add(layers.MaxPooling2D((2, 2)))\n",
    "model.add(layers.Conv2D(128, (3, 3), activation='relu'))\n",
    "model.add(layers.MaxPooling2D((2, 2)))\n",
    "\n",
    "model.add(layers.Flatten())\n",
    "model.add(layers.Dense(512, activation='relu'))\n",
    "\n",
    "\n",
    "# since it's binary classificaition for now, \n",
    "# using a sigmoid function in our last layer\n",
    "# to spit out a probability that the image is either one class or the other\n",
    "model.add(layers.Dense(1, activation='sigmoid'))"
   ]
  },
  {
   "cell_type": "markdown",
   "metadata": {},
   "source": [
    "## Add an optimizer\n",
    "\n",
    "Using binary crossentropy since a binary classification problem. And evaluating on accuracy."
   ]
  },
  {
   "cell_type": "code",
   "execution_count": 52,
   "metadata": {},
   "outputs": [],
   "source": [
    "from keras import optimizers\n",
    "\n",
    "model.compile(loss='binary_crossentropy', optimizer=optimizers.RMSprop(lr=1e-4), metrics=['acc'])"
   ]
  },
  {
   "cell_type": "markdown",
   "metadata": {},
   "source": [
    "## Train and validate model"
   ]
  },
  {
   "cell_type": "code",
   "execution_count": 53,
   "metadata": {},
   "outputs": [
    {
     "name": "stdout",
     "output_type": "stream",
     "text": [
      "WARNING:tensorflow:From /Users/dogrdon/.local/lib/python3.7/site-packages/tensorflow/python/ops/math_ops.py:3066: to_int32 (from tensorflow.python.ops.math_ops) is deprecated and will be removed in a future version.\n",
      "Instructions for updating:\n",
      "Use tf.cast instead.\n",
      "Epoch 1/30\n",
      " 84/100 [========================>.....] - ETA: 16s - loss: 0.6985 - acc: 0.5262"
     ]
    },
    {
     "name": "stderr",
     "output_type": "stream",
     "text": [
      "/Users/dogrdon/anaconda3/lib/python3.7/site-packages/PIL/Image.py:930: UserWarning: Palette images with Transparency   expressed in bytes should be converted to RGBA images\n",
      "  ' expressed in bytes should be converted ' +\n"
     ]
    },
    {
     "name": "stdout",
     "output_type": "stream",
     "text": [
      "100/100 [==============================] - 124s 1s/step - loss: 0.6978 - acc: 0.5210 - val_loss: 0.6926 - val_acc: 0.4990\n",
      "Epoch 2/30\n",
      "100/100 [==============================] - 115s 1s/step - loss: 0.6938 - acc: 0.5070 - val_loss: 0.6921 - val_acc: 0.5150\n",
      "Epoch 3/30\n",
      "100/100 [==============================] - 113s 1s/step - loss: 0.6887 - acc: 0.5370 - val_loss: 0.6869 - val_acc: 0.5630\n",
      "Epoch 4/30\n",
      "100/100 [==============================] - 116s 1s/step - loss: 0.6897 - acc: 0.5260 - val_loss: 0.6852 - val_acc: 0.5630\n",
      "Epoch 5/30\n",
      "100/100 [==============================] - 115s 1s/step - loss: 0.6824 - acc: 0.5552 - val_loss: 0.7087 - val_acc: 0.4940\n",
      "Epoch 6/30\n",
      "100/100 [==============================] - 112s 1s/step - loss: 0.6770 - acc: 0.5805 - val_loss: 0.6820 - val_acc: 0.5580\n",
      "Epoch 7/30\n",
      "100/100 [==============================] - 120s 1s/step - loss: 0.6694 - acc: 0.5790 - val_loss: 0.6795 - val_acc: 0.5620\n",
      "Epoch 8/30\n",
      "100/100 [==============================] - 120s 1s/step - loss: 0.6550 - acc: 0.6050 - val_loss: 0.6870 - val_acc: 0.5640\n",
      "Epoch 9/30\n",
      "100/100 [==============================] - 119s 1s/step - loss: 0.6547 - acc: 0.6160 - val_loss: 0.6884 - val_acc: 0.5630\n",
      "Epoch 10/30\n",
      "100/100 [==============================] - 122s 1s/step - loss: 0.6428 - acc: 0.6250 - val_loss: 0.6899 - val_acc: 0.5700\n",
      "Epoch 11/30\n",
      "100/100 [==============================] - 120s 1s/step - loss: 0.6432 - acc: 0.6344 - val_loss: 0.8243 - val_acc: 0.5020\n",
      "Epoch 12/30\n",
      "100/100 [==============================] - 118s 1s/step - loss: 0.6167 - acc: 0.6560 - val_loss: 0.7089 - val_acc: 0.5530\n",
      "Epoch 13/30\n",
      "100/100 [==============================] - 119s 1s/step - loss: 0.6197 - acc: 0.6470 - val_loss: 0.6956 - val_acc: 0.5560\n",
      "Epoch 14/30\n",
      "100/100 [==============================] - 115s 1s/step - loss: 0.5864 - acc: 0.6762 - val_loss: 0.7141 - val_acc: 0.5500\n",
      "Epoch 15/30\n",
      "100/100 [==============================] - 114s 1s/step - loss: 0.5942 - acc: 0.6785 - val_loss: 0.6983 - val_acc: 0.5710\n",
      "Epoch 16/30\n",
      "100/100 [==============================] - 110s 1s/step - loss: 0.5701 - acc: 0.7027 - val_loss: 0.7179 - val_acc: 0.5580\n",
      "Epoch 17/30\n",
      "100/100 [==============================] - 112s 1s/step - loss: 0.5533 - acc: 0.7065 - val_loss: 0.7195 - val_acc: 0.5610\n",
      "Epoch 18/30\n",
      "100/100 [==============================] - 111s 1s/step - loss: 0.5494 - acc: 0.7220 - val_loss: 0.7714 - val_acc: 0.5620\n",
      "Epoch 19/30\n",
      "100/100 [==============================] - 113s 1s/step - loss: 0.5380 - acc: 0.7235 - val_loss: 0.7465 - val_acc: 0.5500\n",
      "Epoch 20/30\n",
      "100/100 [==============================] - 114s 1s/step - loss: 0.5062 - acc: 0.7547 - val_loss: 0.7441 - val_acc: 0.5850\n",
      "Epoch 21/30\n",
      "100/100 [==============================] - 113s 1s/step - loss: 0.4785 - acc: 0.7715 - val_loss: 0.7756 - val_acc: 0.5530\n",
      "Epoch 22/30\n",
      "100/100 [==============================] - 112s 1s/step - loss: 0.4849 - acc: 0.7690 - val_loss: 0.8078 - val_acc: 0.5630\n",
      "Epoch 23/30\n",
      "100/100 [==============================] - 111s 1s/step - loss: 0.4446 - acc: 0.7985 - val_loss: 0.8099 - val_acc: 0.5640\n",
      "Epoch 24/30\n",
      "100/100 [==============================] - 113s 1s/step - loss: 0.4413 - acc: 0.7835 - val_loss: 0.8125 - val_acc: 0.5690\n",
      "Epoch 25/30\n",
      "100/100 [==============================] - 114s 1s/step - loss: 0.4112 - acc: 0.8117 - val_loss: 0.9810 - val_acc: 0.5380\n",
      "Epoch 26/30\n",
      "100/100 [==============================] - 116s 1s/step - loss: 0.3800 - acc: 0.8295 - val_loss: 0.9621 - val_acc: 0.5480\n",
      "Epoch 27/30\n",
      "100/100 [==============================] - 118s 1s/step - loss: 0.3678 - acc: 0.8388 - val_loss: 0.8993 - val_acc: 0.5570\n",
      "Epoch 28/30\n",
      "100/100 [==============================] - 117s 1s/step - loss: 0.3399 - acc: 0.8520 - val_loss: 0.9310 - val_acc: 0.5610\n",
      "Epoch 29/30\n",
      "100/100 [==============================] - 121s 1s/step - loss: 0.3362 - acc: 0.8495 - val_loss: 0.9333 - val_acc: 0.5730\n",
      "Epoch 30/30\n",
      "100/100 [==============================] - 118s 1s/step - loss: 0.3041 - acc: 0.8615 - val_loss: 0.9743 - val_acc: 0.5700\n"
     ]
    }
   ],
   "source": [
    "result = model.fit_generator(\n",
    "      train_generator,\n",
    "      steps_per_epoch=100,\n",
    "      epochs=30,\n",
    "      validation_data=validation_generator,\n",
    "      validation_steps=50)"
   ]
  },
  {
   "cell_type": "markdown",
   "metadata": {},
   "source": [
    "## Evaluate"
   ]
  },
  {
   "cell_type": "code",
   "execution_count": 55,
   "metadata": {},
   "outputs": [
    {
     "data": {
      "image/png": "[encoded data removed]",
      "text/plain": [
       "<Figure size 432x288 with 1 Axes>"
      ]
     },
     "metadata": {
      "needs_background": "light"
     },
     "output_type": "display_data"
    },
    {
     "data": {
      "image/png": "[encoded data removed]",
      "text/plain": [
       "<Figure size 432x288 with 1 Axes>"
      ]
     },
     "metadata": {
      "needs_background": "light"
     },
     "output_type": "display_data"
    }
   ],
   "source": [
    "import matplotlib.pyplot as plt\n",
    "\n",
    "acc = result.history['acc']\n",
    "val_acc = result.history['val_acc']\n",
    "loss = result.history['loss']\n",
    "val_loss = result.history['val_loss']\n",
    "\n",
    "epochs = range(len(acc))\n",
    "\n",
    "plt.plot(epochs, acc, 'bo', label='Training acc')\n",
    "plt.plot(epochs, val_acc, 'b', label='Validation acc')\n",
    "plt.title('Training and validation accuracy')\n",
    "plt.legend()\n",
    "\n",
    "plt.figure()\n",
    "\n",
    "plt.plot(epochs, loss, 'bo', label='Training loss')\n",
    "plt.plot(epochs, val_loss, 'b', label='Validation loss')\n",
    "plt.title('Training and validation loss')\n",
    "plt.legend()\n",
    "\n",
    "plt.show()"
   ]
  },
  {
   "cell_type": "markdown",
   "metadata": {},
   "source": [
    "We're overfitting, as we can see the train loss and accuracy move in the directions we want, but the validation loss starts to climb around the 5th epoch and its accuracy never gets above 0.6. Similar to the original exercise. We might want to try the data augmentation steps, but we might also want to look back and see if we're making any bald-faced mistakes in our data processing steps."
   ]
  }
 ],
 "metadata": {
  "kernelspec": {
   "display_name": "Python 3",
   "language": "python",
   "name": "python3"
  },
  "language_info": {
   "codemirror_mode": {
    "name": "ipython",
    "version": 3
   },
   "file_extension": ".py",
   "mimetype": "text/x-python",
   "name": "python",
   "nbconvert_exporter": "python",
   "pygments_lexer": "ipython3",
   "version": "3.7.0"
  }
 },
 "nbformat": 4,
 "nbformat_minor": 2
}
